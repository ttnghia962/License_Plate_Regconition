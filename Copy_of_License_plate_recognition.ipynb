{
  "cells": [
    {
      "cell_type": "markdown",
      "metadata": {
        "id": "view-in-github",
        "colab_type": "text"
      },
      "source": [
        "<a href=\"https://colab.research.google.com/github/ttnghia962/License_Plate_Regconition/blob/main/Copy_of_License_plate_recognition.ipynb\" target=\"_parent\"><img src=\"https://colab.research.google.com/assets/colab-badge.svg\" alt=\"Open In Colab\"/></a>"
      ]
    },
    {
      "cell_type": "code",
      "source": [
        "from google.colab import drive\n",
        "drive.mount('/content/drive')"
      ],
      "metadata": {
        "id": "SoA6H1e3SXU3",
        "outputId": "f2ef2e8d-86ff-41b4-ab82-cfa147fe85d4",
        "colab": {
          "base_uri": "https://localhost:8080/"
        }
      },
      "execution_count": null,
      "outputs": [
        {
          "output_type": "stream",
          "name": "stdout",
          "text": [
            "Mounted at /content/drive\n"
          ]
        }
      ]
    },
    {
      "cell_type": "code",
      "execution_count": null,
      "metadata": {
        "id": "Dj71Bi-7F6FW",
        "colab": {
          "base_uri": "https://localhost:8080/"
        },
        "outputId": "36461404-ad3d-4236-9376-5512ea5384a3"
      },
      "outputs": [
        {
          "output_type": "stream",
          "name": "stdout",
          "text": [
            "Looking in indexes: https://pypi.org/simple, https://us-python.pkg.dev/colab-wheels/public/simple/\n",
            "Collecting pytesseract\n",
            "  Downloading pytesseract-0.3.10-py3-none-any.whl (14 kB)\n",
            "Requirement already satisfied: packaging>=21.3 in /usr/local/lib/python3.10/dist-packages (from pytesseract) (23.1)\n",
            "Requirement already satisfied: Pillow>=8.0.0 in /usr/local/lib/python3.10/dist-packages (from pytesseract) (8.4.0)\n",
            "Installing collected packages: pytesseract\n",
            "Successfully installed pytesseract-0.3.10\n",
            "Looking in indexes: https://pypi.org/simple, https://us-python.pkg.dev/colab-wheels/public/simple/\n",
            "Collecting ultralytics\n",
            "  Downloading ultralytics-8.0.115-py3-none-any.whl (595 kB)\n",
            "\u001b[2K     \u001b[90m━━━━━━━━━━━━━━━━━━━━━━━━━━━━━━━━━━━━━━\u001b[0m \u001b[32m595.6/595.6 kB\u001b[0m \u001b[31m33.1 MB/s\u001b[0m eta \u001b[36m0:00:00\u001b[0m\n",
            "\u001b[?25hRequirement already satisfied: matplotlib>=3.2.2 in /usr/local/lib/python3.10/dist-packages (from ultralytics) (3.7.1)\n",
            "Requirement already satisfied: opencv-python>=4.6.0 in /usr/local/lib/python3.10/dist-packages (from ultralytics) (4.7.0.72)\n",
            "Requirement already satisfied: Pillow>=7.1.2 in /usr/local/lib/python3.10/dist-packages (from ultralytics) (8.4.0)\n",
            "Requirement already satisfied: PyYAML>=5.3.1 in /usr/local/lib/python3.10/dist-packages (from ultralytics) (6.0)\n",
            "Requirement already satisfied: requests>=2.23.0 in /usr/local/lib/python3.10/dist-packages (from ultralytics) (2.27.1)\n",
            "Requirement already satisfied: scipy>=1.4.1 in /usr/local/lib/python3.10/dist-packages (from ultralytics) (1.10.1)\n",
            "Requirement already satisfied: torch>=1.7.0 in /usr/local/lib/python3.10/dist-packages (from ultralytics) (2.0.1+cu118)\n",
            "Requirement already satisfied: torchvision>=0.8.1 in /usr/local/lib/python3.10/dist-packages (from ultralytics) (0.15.2+cu118)\n",
            "Requirement already satisfied: tqdm>=4.64.0 in /usr/local/lib/python3.10/dist-packages (from ultralytics) (4.65.0)\n",
            "Requirement already satisfied: pandas>=1.1.4 in /usr/local/lib/python3.10/dist-packages (from ultralytics) (1.5.3)\n",
            "Requirement already satisfied: seaborn>=0.11.0 in /usr/local/lib/python3.10/dist-packages (from ultralytics) (0.12.2)\n",
            "Requirement already satisfied: psutil in /usr/local/lib/python3.10/dist-packages (from ultralytics) (5.9.5)\n",
            "Requirement already satisfied: contourpy>=1.0.1 in /usr/local/lib/python3.10/dist-packages (from matplotlib>=3.2.2->ultralytics) (1.0.7)\n",
            "Requirement already satisfied: cycler>=0.10 in /usr/local/lib/python3.10/dist-packages (from matplotlib>=3.2.2->ultralytics) (0.11.0)\n",
            "Requirement already satisfied: fonttools>=4.22.0 in /usr/local/lib/python3.10/dist-packages (from matplotlib>=3.2.2->ultralytics) (4.39.3)\n",
            "Requirement already satisfied: kiwisolver>=1.0.1 in /usr/local/lib/python3.10/dist-packages (from matplotlib>=3.2.2->ultralytics) (1.4.4)\n",
            "Requirement already satisfied: numpy>=1.20 in /usr/local/lib/python3.10/dist-packages (from matplotlib>=3.2.2->ultralytics) (1.22.4)\n",
            "Requirement already satisfied: packaging>=20.0 in /usr/local/lib/python3.10/dist-packages (from matplotlib>=3.2.2->ultralytics) (23.1)\n",
            "Requirement already satisfied: pyparsing>=2.3.1 in /usr/local/lib/python3.10/dist-packages (from matplotlib>=3.2.2->ultralytics) (3.0.9)\n",
            "Requirement already satisfied: python-dateutil>=2.7 in /usr/local/lib/python3.10/dist-packages (from matplotlib>=3.2.2->ultralytics) (2.8.2)\n",
            "Requirement already satisfied: pytz>=2020.1 in /usr/local/lib/python3.10/dist-packages (from pandas>=1.1.4->ultralytics) (2022.7.1)\n",
            "Requirement already satisfied: urllib3<1.27,>=1.21.1 in /usr/local/lib/python3.10/dist-packages (from requests>=2.23.0->ultralytics) (1.26.15)\n",
            "Requirement already satisfied: certifi>=2017.4.17 in /usr/local/lib/python3.10/dist-packages (from requests>=2.23.0->ultralytics) (2022.12.7)\n",
            "Requirement already satisfied: charset-normalizer~=2.0.0 in /usr/local/lib/python3.10/dist-packages (from requests>=2.23.0->ultralytics) (2.0.12)\n",
            "Requirement already satisfied: idna<4,>=2.5 in /usr/local/lib/python3.10/dist-packages (from requests>=2.23.0->ultralytics) (3.4)\n",
            "Requirement already satisfied: filelock in /usr/local/lib/python3.10/dist-packages (from torch>=1.7.0->ultralytics) (3.12.0)\n",
            "Requirement already satisfied: typing-extensions in /usr/local/lib/python3.10/dist-packages (from torch>=1.7.0->ultralytics) (4.5.0)\n",
            "Requirement already satisfied: sympy in /usr/local/lib/python3.10/dist-packages (from torch>=1.7.0->ultralytics) (1.11.1)\n",
            "Requirement already satisfied: networkx in /usr/local/lib/python3.10/dist-packages (from torch>=1.7.0->ultralytics) (3.1)\n",
            "Requirement already satisfied: jinja2 in /usr/local/lib/python3.10/dist-packages (from torch>=1.7.0->ultralytics) (3.1.2)\n",
            "Requirement already satisfied: triton==2.0.0 in /usr/local/lib/python3.10/dist-packages (from torch>=1.7.0->ultralytics) (2.0.0)\n",
            "Requirement already satisfied: cmake in /usr/local/lib/python3.10/dist-packages (from triton==2.0.0->torch>=1.7.0->ultralytics) (3.25.2)\n",
            "Requirement already satisfied: lit in /usr/local/lib/python3.10/dist-packages (from triton==2.0.0->torch>=1.7.0->ultralytics) (16.0.5)\n",
            "Requirement already satisfied: six>=1.5 in /usr/local/lib/python3.10/dist-packages (from python-dateutil>=2.7->matplotlib>=3.2.2->ultralytics) (1.16.0)\n",
            "Requirement already satisfied: MarkupSafe>=2.0 in /usr/local/lib/python3.10/dist-packages (from jinja2->torch>=1.7.0->ultralytics) (2.1.2)\n",
            "Requirement already satisfied: mpmath>=0.19 in /usr/local/lib/python3.10/dist-packages (from sympy->torch>=1.7.0->ultralytics) (1.3.0)\n",
            "Installing collected packages: ultralytics\n",
            "Successfully installed ultralytics-8.0.115\n",
            "Looking in indexes: https://pypi.org/simple, https://us-python.pkg.dev/colab-wheels/public/simple/\n",
            "Requirement already satisfied: opencv-python in /usr/local/lib/python3.10/dist-packages (4.7.0.72)\n",
            "Requirement already satisfied: numpy>=1.21.2 in /usr/local/lib/python3.10/dist-packages (from opencv-python) (1.22.4)\n"
          ]
        }
      ],
      "source": [
        "!pip install pytesseract\n",
        "!pip install ultralytics\n",
        "!pip install opencv-python"
      ]
    },
    {
      "cell_type": "code",
      "execution_count": null,
      "metadata": {
        "id": "rS5qAF6lFTFr"
      },
      "outputs": [],
      "source": [
        "import os\n",
        "import cv2\n",
        "import numpy as np\n",
        "import pandas as pd\n",
        "import tensorflow as tf\n",
        "import pytesseract as pt    # Used for optical character recognition (OCR) to extract text from images\n",
        "import plotly.express as px # Creating and displaying interactive plots, such as line plots, bar plots\n",
        "import matplotlib.pyplot as plt\n",
        "import xml.etree.ElementTree as xet # Parsing and manipulating XML data\n",
        "\n",
        "from glob import glob   # Inding files and directories that match a specified pattern\n",
        "from skimage import io  # Reading and writing images\n",
        "from shutil import copy # Copying files and directories\n",
        "from sklearn.model_selection import train_test_split \n",
        "\n",
        "from tensorflow.keras.models import Model   # Creating a deep learning model\n",
        "from tensorflow.keras.callbacks import TensorBoard  # Logging training information and visualizing it in TensorBoard\n",
        "from tensorflow.keras.applications import InceptionResNetV2  # Loading the pre-trained InceptionResNetV2 model\n",
        "from tensorflow.keras.layers import Dense, Dropout, Flatten, Input  # Defining different layers in a deep learning model\n",
        "from tensorflow.keras.preprocessing.image import load_img, img_to_array  # Loading and preprocessing images"
      ]
    },
    {
      "cell_type": "markdown",
      "metadata": {
        "id": "J4DipM3R3BoN"
      },
      "source": [
        "#Import dataset"
      ]
    },
    {
      "cell_type": "code",
      "execution_count": null,
      "metadata": {
        "id": "IU4RWBZOa7OP"
      },
      "outputs": [],
      "source": [
        "fileName = \"/content/data_xml\""
      ]
    },
    {
      "cell_type": "code",
      "execution_count": null,
      "metadata": {
        "id": "TTTFkHQHFkLx",
        "colab": {
          "base_uri": "https://localhost:8080/",
          "height": 235
        },
        "outputId": "0e3225ca-bb46-454f-9ec0-04b27e5cf2b0"
      },
      "outputs": [
        {
          "output_type": "error",
          "ename": "FileNotFoundError",
          "evalue": "ignored",
          "traceback": [
            "\u001b[0;31m---------------------------------------------------------------------------\u001b[0m",
            "\u001b[0;31mFileNotFoundError\u001b[0m                         Traceback (most recent call last)",
            "\u001b[0;32m<ipython-input-5-7e687f7fb524>\u001b[0m in \u001b[0;36m<cell line: 2>\u001b[0;34m()\u001b[0m\n\u001b[1;32m      1\u001b[0m \u001b[0mlabels_dict\u001b[0m \u001b[0;34m=\u001b[0m \u001b[0mdict\u001b[0m\u001b[0;34m(\u001b[0m\u001b[0mfilepath\u001b[0m\u001b[0;34m=\u001b[0m\u001b[0;34m[\u001b[0m\u001b[0;34m]\u001b[0m\u001b[0;34m,\u001b[0m\u001b[0mxmin\u001b[0m\u001b[0;34m=\u001b[0m\u001b[0;34m[\u001b[0m\u001b[0;34m]\u001b[0m\u001b[0;34m,\u001b[0m\u001b[0mxmax\u001b[0m\u001b[0;34m=\u001b[0m\u001b[0;34m[\u001b[0m\u001b[0;34m]\u001b[0m\u001b[0;34m,\u001b[0m\u001b[0mymin\u001b[0m\u001b[0;34m=\u001b[0m\u001b[0;34m[\u001b[0m\u001b[0;34m]\u001b[0m\u001b[0;34m,\u001b[0m\u001b[0mymax\u001b[0m\u001b[0;34m=\u001b[0m\u001b[0;34m[\u001b[0m\u001b[0;34m]\u001b[0m\u001b[0;34m)\u001b[0m\u001b[0;34m\u001b[0m\u001b[0;34m\u001b[0m\u001b[0m\n\u001b[0;32m----> 2\u001b[0;31m \u001b[0;32mfor\u001b[0m \u001b[0mname\u001b[0m \u001b[0;32min\u001b[0m \u001b[0mos\u001b[0m\u001b[0;34m.\u001b[0m\u001b[0mlistdir\u001b[0m\u001b[0;34m(\u001b[0m\u001b[0mfileName\u001b[0m\u001b[0;34m)\u001b[0m\u001b[0;34m:\u001b[0m\u001b[0;34m\u001b[0m\u001b[0;34m\u001b[0m\u001b[0m\n\u001b[0m\u001b[1;32m      3\u001b[0m    \u001b[0mpath\u001b[0m \u001b[0;34m=\u001b[0m \u001b[0mglob\u001b[0m\u001b[0;34m(\u001b[0m\u001b[0;34mf'/content/data_xml/{name}'\u001b[0m\u001b[0;34m)\u001b[0m\u001b[0;34m\u001b[0m\u001b[0;34m\u001b[0m\u001b[0m\n\u001b[1;32m      4\u001b[0m    \u001b[0;32mfor\u001b[0m \u001b[0mfilename\u001b[0m \u001b[0;32min\u001b[0m \u001b[0mpath\u001b[0m\u001b[0;34m:\u001b[0m\u001b[0;34m\u001b[0m\u001b[0;34m\u001b[0m\u001b[0m\n\u001b[1;32m      5\u001b[0m \u001b[0;34m\u001b[0m\u001b[0m\n",
            "\u001b[0;31mFileNotFoundError\u001b[0m: [Errno 2] No such file or directory: '/content/data_xml'"
          ]
        }
      ],
      "source": [
        " labels_dict = dict(filepath=[],xmin=[],xmax=[],ymin=[],ymax=[])\n",
        " for name in os.listdir(fileName):  \n",
        "    path = glob(f'/content/data_xml/{name}')\n",
        "    for filename in path:\n",
        "\n",
        "        info = xet.parse(filename)\n",
        "        root = info.getroot()\n",
        "        member_object = root.find('object')\n",
        "        labels_info = member_object.find('bndbox')\n",
        "        xmin = int(labels_info.find('xmin').text)\n",
        "        xmax = int(labels_info.find('xmax').text)\n",
        "        ymin = int(labels_info.find('ymin').text)\n",
        "        ymax = int(labels_info.find('ymax').text)\n",
        "\n",
        "        labels_dict['filepath'].append(filename)\n",
        "        labels_dict['xmin'].append(xmin)\n",
        "        labels_dict['xmax'].append(xmax)\n",
        "        labels_dict['ymin'].append(ymin)\n",
        "        labels_dict['ymax'].append(ymax)"
      ]
    },
    {
      "cell_type": "code",
      "execution_count": null,
      "metadata": {
        "id": "_hL4bWUUFkRp"
      },
      "outputs": [],
      "source": [
        "df = pd.DataFrame(labels_dict)\n",
        "df.to_csv('labels.csv',index=False)"
      ]
    },
    {
      "cell_type": "code",
      "execution_count": null,
      "metadata": {
        "id": "Keb-6Sqh5PhF"
      },
      "outputs": [],
      "source": [
        "df.info()"
      ]
    },
    {
      "cell_type": "code",
      "execution_count": null,
      "metadata": {
        "id": "ExexXS-EFkU2"
      },
      "outputs": [],
      "source": [
        "filename_xml = df['filepath'][0]\n",
        "def getFilename(filename):\n",
        "    filename_image = xet.parse(filename).getroot().find('filename').text\n",
        "    filepath_image = os.path.join('/content/data_img',filename_image)\n",
        "    return filepath_image\n",
        "getFilename(filename_xml)"
      ]
    },
    {
      "cell_type": "code",
      "execution_count": null,
      "metadata": {
        "id": "vFD7yPpXFkXg"
      },
      "outputs": [],
      "source": [
        "img_path = list(df['filepath'].apply(getFilename))\n",
        "img_path[:10]"
      ]
    },
    {
      "cell_type": "markdown",
      "metadata": {
        "id": "go-d2LQ53JrK"
      },
      "source": [
        "- Veritfy dataset"
      ]
    },
    {
      "cell_type": "code",
      "execution_count": null,
      "metadata": {
        "id": "wQZeLJEc01Np"
      },
      "outputs": [],
      "source": [
        "'''img_num_check = int(input())\n",
        "\n",
        "file_path = img_path[img_num_check] \n",
        "img = cv2.imread(file_path) #read the image\n",
        "\n",
        "img = io.imread(file_path) #Read the image\n",
        "fig = px.imshow(img)\n",
        "fig.update_layout(width=600, height=500, margin=dict(l=10, r=10, b=10, t=10))\n",
        "fig.add_shape(type='rect',\n",
        "              x0=df['xmin'][img_num_check], x1=df['xmax'][img_num_check], \n",
        "              y0=df['ymin'][img_num_check], y1=df['ymax'][img_num_check], \n",
        "              xref='x', yref='y',line_color='cyan')'''"
      ]
    },
    {
      "cell_type": "markdown",
      "metadata": {
        "id": "DDT4wAaMoYy2"
      },
      "source": [
        "#Data preprocessing"
      ]
    },
    {
      "cell_type": "code",
      "execution_count": null,
      "metadata": {
        "id": "HIixo7ZNoYUq"
      },
      "outputs": [],
      "source": [
        "labels = df.iloc[:,1:].values # Targeting all our values in array selecting all columns\n",
        "\n",
        "data = []\n",
        "output = []\n",
        "for ind in range(len(img_path)):\n",
        "\n",
        "    img = img_path[ind]\n",
        "    img_arr = cv2.imread(img)\n",
        "    h,w,d = img_arr.shape\n",
        "\n",
        "    # Pre-procesing images\n",
        "    load_image = load_img(img,target_size=(224,224)) # Resizing image to 244x244\n",
        "    load_image_arr = img_to_array(load_image) # Converting image into a NumPy array with the color channels\n",
        "    norm_load_image_arr = load_image_arr/255.0 # Feature scalling to each color channel have a value between 0 and 1\n",
        "\n",
        "    # Normalization to labels\n",
        "    xmin, xmax, ymin, ymax = labels[ind]\n",
        "    nxmin, nxmax = xmin/w, xmax/w\n",
        "    nymin, nymax = ymin/h, ymax/h\n",
        "    label_norm = (nxmin, nxmax, nymin, nymax) # Normalized output\n",
        "    \n",
        "    data.append(norm_load_image_arr)\n",
        "    output.append(label_norm)"
      ]
    },
    {
      "cell_type": "markdown",
      "metadata": {
        "id": "e243sZ_yqYFg"
      },
      "source": [
        "#Splitting train and test set\n"
      ]
    },
    {
      "cell_type": "code",
      "execution_count": null,
      "metadata": {
        "id": "iGNypgR2qf2h"
      },
      "outputs": [],
      "source": [
        "X = np.array(data, dtype=np.float32)\n",
        "y = np.array(output, dtype=np.float32)"
      ]
    },
    {
      "cell_type": "code",
      "execution_count": null,
      "metadata": {
        "id": "_ghGefvfx5T7"
      },
      "outputs": [],
      "source": [
        "X_train, X_test, y_train, y_test = train_test_split(X, y,\n",
        "                                                    train_size = 0.8, test_size = 0.2,\n",
        "                                                    random_state = 0)"
      ]
    },
    {
      "cell_type": "code",
      "execution_count": null,
      "metadata": {
        "id": "ASfeddDAyoJE"
      },
      "outputs": [],
      "source": [
        "df.shape"
      ]
    },
    {
      "cell_type": "code",
      "execution_count": null,
      "metadata": {
        "id": "gdlmljYgyL81"
      },
      "outputs": [],
      "source": [
        "X_train.shape, y_train.shape"
      ]
    },
    {
      "cell_type": "code",
      "execution_count": null,
      "metadata": {
        "id": "IoSW9XW3ysDP"
      },
      "outputs": [],
      "source": [
        "X_test.shape, y_test.shape"
      ]
    },
    {
      "cell_type": "code",
      "execution_count": null,
      "metadata": {
        "id": "sz3orZ9v4lN4"
      },
      "outputs": [],
      "source": []
    },
    {
      "cell_type": "code",
      "execution_count": null,
      "metadata": {
        "id": "_GbVsEtURxdT"
      },
      "outputs": [],
      "source": []
    },
    {
      "cell_type": "code",
      "execution_count": null,
      "metadata": {
        "id": "h-y9cG-wRxfU"
      },
      "outputs": [],
      "source": []
    },
    {
      "cell_type": "markdown",
      "metadata": {
        "id": "Qgu2eZnd4lhy"
      },
      "source": [
        "#Object Detection Model"
      ]
    },
    {
      "cell_type": "markdown",
      "metadata": {
        "id": "aednDBYHKjtm"
      },
      "source": [
        "##Initialize the InceptionResNetV2 model with pre-trained weights from ImageNet"
      ]
    },
    {
      "cell_type": "code",
      "execution_count": null,
      "metadata": {
        "id": "n3CIJFjWcQyq"
      },
      "outputs": [],
      "source": [
        "inception_resnet = InceptionResNetV2(\n",
        "    weights=\"imagenet\", \n",
        "    include_top=False, # Exclude the final fully connected layer\n",
        "    input_tensor=Input(shape=(224,224,3)) # Set the input size as 224x224 pixels with 3 color channels\n",
        ")\n",
        "\n",
        "\n",
        "headmodel = inception_resnet.output # Retrieve the output from the InceptionResNetV2 model\n",
        "headmodel = Flatten()(headmodel) # Add a Flatten layer to convert the output into a 1-dimensional vector\n",
        "headmodel = Dense(500, activation=\"relu\")(headmodel) # Add a fully connected layer with 500 hidden units and ReLU activation\n",
        "headmodel = Dense(250, activation=\"relu\")(headmodel) # Add another fully connected layer with 250 hidden units and ReLU activation\n",
        "headmodel = Dense(4, activation='sigmoid')(headmodel)\n",
        "# Add a final fully connected layer with 4 hidden units and sigmoid activation\n",
        "# Sigmoid activation is used to predict the 4 attributes of the region of interest\n",
        "\n",
        "\n",
        "# Create the complete model by specifying the inputs and outputs\n",
        "model = Model(\n",
        "    inputs=inception_resnet.input, \n",
        "    outputs=headmodel\n",
        ") "
      ]
    },
    {
      "cell_type": "code",
      "execution_count": null,
      "metadata": {
        "id": "bFVSseX0cQ1z"
      },
      "outputs": [],
      "source": [
        "# Compile the model\n",
        "model.compile(\n",
        "    loss='mse', # Use mean squared error as the loss function\n",
        "    optimizer=tf.keras.optimizers.Adam(learning_rate=1e-4) # Use Adam optimizer with a learning rate of 1e-4\n",
        ")\n",
        "model.summary() # Print a summary of the model's architecture"
      ]
    },
    {
      "cell_type": "markdown",
      "metadata": {
        "id": "FTOlc3F1RCUg"
      },
      "source": [
        "##Training InceptionResNetV2 model"
      ]
    },
    {
      "cell_type": "code",
      "execution_count": null,
      "metadata": {
        "id": "o24HqchVQ1eM"
      },
      "outputs": [],
      "source": [
        "# Create a TensorBoard callback to visualize training progress and metrics\n",
        "tfb = TensorBoard('object_detection') \n",
        "\n",
        "training_model = model.fit(\n",
        "    x=X_train, y=y_train,  # Training data\n",
        "    batch_size=10,  # Number of samples per gradient update\n",
        "    epochs=140,  # Number of training epochs\n",
        "    validation_data=(X_test, y_test),  # Validation data\n",
        "    callbacks=[tfb]  # List of callbacks to be used during training\n",
        ")"
      ]
    },
    {
      "cell_type": "code",
      "execution_count": null,
      "metadata": {
        "id": "Bl7EZuOFTHzv"
      },
      "outputs": [],
      "source": [
        "model.save('./License_plate_recognition.h5')"
      ]
    }
  ],
  "metadata": {
    "accelerator": "GPU",
    "colab": {
      "provenance": [],
      "include_colab_link": true
    },
    "gpuClass": "standard",
    "kernelspec": {
      "display_name": "Python 3",
      "name": "python3"
    },
    "language_info": {
      "name": "python"
    }
  },
  "nbformat": 4,
  "nbformat_minor": 0
}